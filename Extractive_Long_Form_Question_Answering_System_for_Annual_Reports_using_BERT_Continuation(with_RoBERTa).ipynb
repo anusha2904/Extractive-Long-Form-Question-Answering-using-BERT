{
  "nbformat": 4,
  "nbformat_minor": 0,
  "metadata": {
    "colab": {
      "name": "Extractive Long Form Question Answering System for Annual Reports using BERT_Continuation(with RoBERTa).ipynb",
      "provenance": []
    },
    "kernelspec": {
      "name": "python3",
      "display_name": "Python 3"
    },
    "language_info": {
      "name": "python"
    }
  },
  "cells": [
    {
      "cell_type": "code",
      "source": [
        "from IPython.display import HTML, display\n",
        "\n",
        "def set_css():\n",
        "  display(HTML('''\n",
        "  <style>\n",
        "    pre {\n",
        "        white-space: pre-wrap;\n",
        "    }\n",
        "  </style>\n",
        "  '''))\n",
        "get_ipython().events.register('pre_run_cell', set_css)"
      ],
      "metadata": {
        "id": "ziFr78XR0gbm"
      },
      "execution_count": null,
      "outputs": []
    },
    {
      "cell_type": "code",
      "source": [
        "pip install transformers"
      ],
      "metadata": {
        "id": "cC3BEsM-t76C"
      },
      "execution_count": null,
      "outputs": []
    },
    {
      "cell_type": "code",
      "source": [
        "l = '''What is the brand statement of TCS ',\n",
        " 'WHAT DOES YOUR NEW BRAND STATEMENT `BUILDING ON BELIEF’ MEAN TO YOU AND TO CUSTOMERS?',\n",
        " 'TCS adopted a new brand statement Building on Belief to convey how its partnership with customers goes beyond technology deployment.',\n",
        " 'WHAT ARE TALENT CLOUDS AND HOW DO THEY CHANGE THE DELIVERY MODEL?',\n",
        " 'What is your company’s direct contribution to community development projects  Amount in INR and the details of the projects undertaken?',\n",
        " 'In that context the new brand statement is very timely and reflects that aspiration.',\n",
        " 'WHAT ROLE DOES YOUR INTELLECTUAL PROPERTY PRODUCTS AND PLATFORMS PLAY IN THE G&T OPPORTUNITY?',\n",
        " 'To better articulate its mission and its aspirations your company adopted a new brand statement this year `Building on Belief’.',\n",
        " 'If explanations provided here are found to be different from what is described in the Company’s periodic financial statements (not limited to Notes to Accounts) then the definition provided in the certified financial statements will prevail.',\n",
        " 'TCS Research marked its 40th year by adopting a new brand identity with the tagline `Inventing for Impact’.',\n",
        " 'I think it describes what TCS does very accurately and also reflects the ethos of the Tata Group and its evolution over the last century and a half.',\n",
        " 'Ernst & Young has assured the data presented under GRI Standards disclosures as specified in their Assurance Statement.',\n",
        " 'The new statement conveys how TCS builds on their ambition and optimism to transform their business for the better the impact of which is felt by their customers and the communities they serve.',\n",
        " 'The specific carbon footprint data is presented for the sake of continuity and is not comparable with the prior years.',\n",
        " 'TCS is committed to using zero ',\n",
        " 'This is why the new brand statement resonates so well and feels so right.',\n",
        " 'KAK: In the second scenario TCS Research & Innovation is a catalyst.',\n",
        " 'over and above what is mandated as per local laws?',\n",
        " 'For details of meetings of the Board please refer to the Corporate Governance Report which is a part of this report.',\n",
        " 'If yes what steps have been taken to improve their capacity and capability of local and small vendors?'''"
      ],
      "metadata": {
        "id": "YjA7ry4CuoP0"
      },
      "execution_count": null,
      "outputs": []
    },
    {
      "cell_type": "code",
      "source": [
        "l = ((l.replace(',', '')).replace('\\'', '')).split(\"\\n\")\n"
      ],
      "metadata": {
        "id": "q744Yz6-wGsE"
      },
      "execution_count": null,
      "outputs": []
    },
    {
      "cell_type": "code",
      "source": [
        "l"
      ],
      "metadata": {
        "colab": {
          "base_uri": "https://localhost:8080/"
        },
        "id": "NTs5atFLwtZt",
        "outputId": "1ab99552-749e-41c9-edbe-58eb686debfd"
      },
      "execution_count": null,
      "outputs": [
        {
          "output_type": "execute_result",
          "data": {
            "text/plain": [
              "['What is the brand statement of TCS ',\n",
              " ' WHAT DOES YOUR NEW BRAND STATEMENT `BUILDING ON BELIEF’ MEAN TO YOU AND TO CUSTOMERS?',\n",
              " ' TCS adopted a new brand statement Building on Belief to convey how its partnership with customers goes beyond technology deployment.',\n",
              " ' WHAT ARE TALENT CLOUDS AND HOW DO THEY CHANGE THE DELIVERY MODEL?',\n",
              " ' What is your company’s direct contribution to community development projects  Amount in INR and the details of the projects undertaken?',\n",
              " ' In that context the new brand statement is very timely and reflects that aspiration.',\n",
              " ' WHAT ROLE DOES YOUR INTELLECTUAL PROPERTY PRODUCTS AND PLATFORMS PLAY IN THE G&T OPPORTUNITY?',\n",
              " ' To better articulate its mission and its aspirations your company adopted a new brand statement this year `Building on Belief’.',\n",
              " ' If explanations provided here are found to be different from what is described in the Company’s periodic financial statements (not limited to Notes to Accounts) then the definition provided in the certified financial statements will prevail.',\n",
              " ' TCS Research marked its 40th year by adopting a new brand identity with the tagline `Inventing for Impact’.',\n",
              " ' I think it describes what TCS does very accurately and also reflects the ethos of the Tata Group and its evolution over the last century and a half.',\n",
              " ' Ernst & Young has assured the data presented under GRI Standards disclosures as specified in their Assurance Statement.',\n",
              " ' The new statement conveys how TCS builds on their ambition and optimism to transform their business for the better the impact of which is felt by their customers and the communities they serve.',\n",
              " ' The specific carbon footprint data is presented for the sake of continuity and is not comparable with the prior years.',\n",
              " ' TCS is committed to using zero ',\n",
              " ' This is why the new brand statement resonates so well and feels so right.',\n",
              " ' KAK: In the second scenario TCS Research & Innovation is a catalyst.',\n",
              " ' over and above what is mandated as per local laws?',\n",
              " ' For details of meetings of the Board please refer to the Corporate Governance Report which is a part of this report.',\n",
              " ' If yes what steps have been taken to improve their capacity and capability of local and small vendors?']"
            ]
          },
          "metadata": {},
          "execution_count": 15
        }
      ]
    },
    {
      "cell_type": "code",
      "source": [
        "question = \"What is the brand statement of TCS?\""
      ],
      "metadata": {
        "id": "_V6gHelmykzJ"
      },
      "execution_count": null,
      "outputs": []
    },
    {
      "cell_type": "markdown",
      "source": [
        "Rank sentences based on the score that the model ouputs."
      ],
      "metadata": {
        "id": "P3lN2i66Soij"
      }
    },
    {
      "cell_type": "code",
      "execution_count": null,
      "metadata": {
        "id": "iDo1t4Xmtr4v"
      },
      "outputs": [],
      "source": [
        "from transformers import AutoModelForQuestionAnswering, AutoTokenizer, pipeline\n",
        "\n",
        "model_name = \"deepset/roberta-base-squad2\"\n",
        "\n",
        "nlp = pipeline('question-answering', model=model_name, tokenizer=model_name)\n",
        "\n",
        "scores_sentences = []\n",
        "\n",
        "for i in range(len(l)):\n",
        "  QA_input = {\n",
        "    'question': question,\n",
        "    'context': l[i] }\n",
        "\n",
        "  res = nlp(QA_input)\n",
        "  scores_sentences.append([res['score'], i])\n",
        "\n"
      ]
    },
    {
      "cell_type": "code",
      "source": [
        "scores_sentences.sort(key = lambda x: x[0], reverse=True)"
      ],
      "metadata": {
        "id": "CaYkLxqryE_8"
      },
      "execution_count": null,
      "outputs": []
    },
    {
      "cell_type": "code",
      "source": [
        "lines = ''\n",
        "for i in range(5):\n",
        "  lines += l[scores_sentences[i][1]]"
      ],
      "metadata": {
        "id": "c_WhZmPFyLW1"
      },
      "execution_count": null,
      "outputs": []
    },
    {
      "cell_type": "code",
      "source": [
        "print(lines)"
      ],
      "metadata": {
        "colab": {
          "base_uri": "https://localhost:8080/",
          "height": 86
        },
        "id": "ShjjEAY8y-Zi",
        "outputId": "1d6ee8ed-d639-4102-d141-626faad049af"
      },
      "execution_count": null,
      "outputs": [
        {
          "output_type": "display_data",
          "data": {
            "text/html": [
              "\n",
              "  <style>\n",
              "    pre {\n",
              "        white-space: pre-wrap;\n",
              "    }\n",
              "  </style>\n",
              "  "
            ],
            "text/plain": [
              "<IPython.core.display.HTML object>"
            ]
          },
          "metadata": {}
        },
        {
          "output_type": "stream",
          "name": "stdout",
          "text": [
            " TCS adopted a new brand statement Building on Belief to convey how its partnership with customers goes beyond technology deployment. WHAT DOES YOUR NEW BRAND STATEMENT `BUILDING ON BELIEF’ MEAN TO YOU AND TO CUSTOMERS? To better articulate its mission and its aspirations your company adopted a new brand statement this year `Building on Belief’. TCS Research marked its 40th year by adopting a new brand identity with the tagline `Inventing for Impact’. TCS is committed to using zero \n"
          ]
        }
      ]
    },
    {
      "cell_type": "code",
      "source": [
        ""
      ],
      "metadata": {
        "id": "OMrGQiAMuatU"
      },
      "execution_count": null,
      "outputs": []
    }
  ]
}