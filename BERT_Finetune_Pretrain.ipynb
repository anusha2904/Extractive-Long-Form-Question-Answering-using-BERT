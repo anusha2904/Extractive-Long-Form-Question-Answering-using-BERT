{
  "nbformat": 4,
  "nbformat_minor": 0,
  "metadata": {
    "colab": {
      "name": "BERT_Finetune_Pretrain.ipynb",
      "provenance": [],
      "collapsed_sections": []
    },
    "kernelspec": {
      "name": "python3",
      "display_name": "Python 3"
    },
    "language_info": {
      "name": "python"
    },
    "accelerator": "GPU"
  },
  "cells": [
    {
      "cell_type": "markdown",
      "metadata": {
        "id": "t8NIGGHFNdLV"
      },
      "source": [
        "BERT Pre-training and Fine-tuning \n",
        "\n"
      ]
    },
    {
      "cell_type": "code",
      "metadata": {
        "colab": {
          "base_uri": "https://localhost:8080/"
        },
        "id": "_MiDQ0Xrwla5",
        "outputId": "fddcd4c4-8ffb-4c74-b6ae-ea785322aa0f"
      },
      "source": [
        "%tensorflow_version 1.x"
      ],
      "execution_count": null,
      "outputs": [
        {
          "output_type": "stream",
          "name": "stdout",
          "text": [
            "TensorFlow 1.x selected.\n"
          ]
        }
      ]
    },
    {
      "cell_type": "code",
      "metadata": {
        "id": "x62dFt6iwqOP"
      },
      "source": [
        "!wget https://storage.googleapis.com/bert_models/2018_10_18/uncased_L-12_H-768_A-12.zip\n"
      ],
      "execution_count": null,
      "outputs": []
    },
    {
      "cell_type": "code",
      "metadata": {
        "id": "feEH4DQBwr1_"
      },
      "source": [
        "!unzip /content/uncased_L-12_H-768_A-12.zip"
      ],
      "execution_count": null,
      "outputs": []
    },
    {
      "cell_type": "code",
      "metadata": {
        "id": "OoU-axxRwuTl"
      },
      "source": [
        "!git clone https://github.com/google-research/bert.git"
      ],
      "execution_count": null,
      "outputs": []
    },
    {
      "cell_type": "code",
      "metadata": {
        "id": "vNpaE7Ccww8T"
      },
      "source": [
        "pip install transformers"
      ],
      "execution_count": null,
      "outputs": []
    },
    {
      "cell_type": "markdown",
      "source": [
        "All the parameters have been set to what worked best for us. "
      ],
      "metadata": {
        "id": "hNpjTK6ZeZhB"
      }
    },
    {
      "cell_type": "markdown",
      "source": [
        "creating pretraining data for BERT"
      ],
      "metadata": {
        "id": "ki85FNFVUu3O"
      }
    },
    {
      "cell_type": "code",
      "metadata": {
        "id": "G_RrMw24wy5Y"
      },
      "source": [
        "!python /content/bert/create_pretraining_data.py \\\n",
        "  --input_file=/content/data20.txt \\\n",
        "  --output_file=/tmp/tf_examples.tfrecord \\\n",
        "  --vocab_file=/content/uncased_L-12_H-768_A-12/vocab.txt \\\n",
        "  --do_lower_case=True \\\n",
        "  --max_seq_length=128 \\\n",
        "  --max_predictions_per_seq=20 \\\n",
        "  --masked_lm_prob=0.15 \\\n",
        "  --random_seed=12345 \\\n",
        "  --dupe_factor=5"
      ],
      "execution_count": null,
      "outputs": []
    },
    {
      "cell_type": "markdown",
      "source": [
        "Pre-training BERT with annual report text"
      ],
      "metadata": {
        "id": "h1gKQBZNU-fg"
      }
    },
    {
      "cell_type": "code",
      "metadata": {
        "id": "5LonkZEAxHxy"
      },
      "source": [
        "!python /content/bert/run_pretraining.py \\\n",
        "  --input_file=/tmp/tf_examples.tfrecord \\\n",
        "  --output_dir=/tmp/pretraining_output \\\n",
        "  --do_train=True \\\n",
        "  --do_eval=True \\\n",
        "  --bert_config_file=/content/uncased_L-12_H-768_A-12/bert_config.json \\\n",
        "  --init_checkpoint=/content/uncased_L-12_H-768_A-12/bert_model.ckpt \\\n",
        "  --train_batch_size=32 \\\n",
        "  --max_seq_length=128 \\\n",
        "  --max_predictions_per_seq=20 \\\n",
        "  --num_train_steps=10 \\\n",
        "  --num_warmup_steps=5 \\\n",
        "  --learning_rate=2e-5"
      ],
      "execution_count": null,
      "outputs": []
    },
    {
      "cell_type": "markdown",
      "source": [
        "Fine-tuning BERT with FiQA data"
      ],
      "metadata": {
        "id": "E-Q5KXTNVqxk"
      }
    },
    {
      "cell_type": "code",
      "metadata": {
        "id": "As9fC4PK022J"
      },
      "source": [
        "!python /content/bert/run_squad.py \\\n",
        "  --vocab_file=/content/uncased_L-12_H-768_A-12/vocab.txt \\\n",
        "  --bert_config_file=/content/uncased_L-12_H-768_A-12/bert_config.json \\\n",
        "  --init_checkpoint=/tmp/pretraining_output/model.ckpt-10 \\\n",
        "  --do_train=True \\\n",
        "  --train_file=/content/json_data_train_updated4.json\\\n",
        "  --do_predict=True \\\n",
        "  --predict_file=/content/test.json \\\n",
        "  --train_batch_size=2 \\\n",
        "  --learning_rate=3e-5 \\\n",
        "  --num_train_epochs=3.0 \\\n",
        "  --max_seq_length=384 \\\n",
        "  --doc_stride=128 \\\n",
        "  --output_dir=/tmp/squad_base/"
      ],
      "execution_count": null,
      "outputs": []
    },
    {
      "cell_type": "markdown",
      "source": [
        "Storing the model"
      ],
      "metadata": {
        "id": "XM5kmPLYVzMh"
      }
    },
    {
      "cell_type": "code",
      "metadata": {
        "colab": {
          "base_uri": "https://localhost:8080/"
        },
        "id": "S3-xly5SvMr0",
        "outputId": "fbbc4b9d-261c-454c-a7a3-b4770f7d0690"
      },
      "source": [
        "from google.colab import drive\n",
        "drive.mount('/content/drive')"
      ],
      "execution_count": null,
      "outputs": [
        {
          "output_type": "stream",
          "name": "stdout",
          "text": [
            "Mounted at /content/drive\n"
          ]
        }
      ]
    },
    {
      "cell_type": "code",
      "metadata": {
        "colab": {
          "base_uri": "https://localhost:8080/"
        },
        "id": "bEGgB9RkvO1u",
        "outputId": "c529a6aa-d5e8-426b-c428-ac5ebd08fdb2"
      },
      "source": [
        "!mv /tmp/squad_base /content/drive/MyDrive"
      ],
      "execution_count": null,
      "outputs": [
        {
          "output_type": "stream",
          "name": "stdout",
          "text": [
            "mv: inter-device move failed: '/tmp/squad_base' to '/content/drive/MyDrive/squad_base'; unable to remove target: Directory not empty\n"
          ]
        }
      ]
    },
    {
      "cell_type": "code",
      "metadata": {
        "id": "0CufmGJqvXQ-"
      },
      "source": [
        ""
      ],
      "execution_count": null,
      "outputs": []
    }
  ]
}